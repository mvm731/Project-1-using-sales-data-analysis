{
 "cells": [
  {
   "cell_type": "markdown",
   "id": "3ea2ae1b-d106-416e-bfc3-b71c562a73f4",
   "metadata": {},
   "source": [
    "# Sales data analysis using python libraries: pandas & numpy"
   ]
  },
  {
   "cell_type": "code",
   "execution_count": 18,
   "id": "07cfe5c7-4b95-4716-a161-437b05a1aa3b",
   "metadata": {},
   "outputs": [],
   "source": [
    "import pandas as pd\n",
    "import numpy as np\n",
    "\n",
    "# 1. Load the CSV file\n",
    "df = pd.read_csv(\"amazon.csv\")  # Replace with your actual file path"
   ]
  },
  {
   "cell_type": "code",
   "execution_count": 19,
   "id": "6918a5aa-c378-4bb0-a418-32de2c7e50b2",
   "metadata": {},
   "outputs": [],
   "source": [
    "# 2. Clean and convert columns\n",
    "df['discounted_price'] = pd.to_numeric(df['discounted_price'].str.replace(',', '').str.replace('₹', ''), errors='coerce')\n",
    "df['rating_count'] = pd.to_numeric(df['rating_count'], errors='coerce')"
   ]
  },
  {
   "cell_type": "code",
   "execution_count": 20,
   "id": "66f2c4fc-82a6-4da1-8dec-7316395caa51",
   "metadata": {},
   "outputs": [],
   "source": [
    "# 3. Add a sample 'region' and 'date' column for demonstration (if not present)\n",
    "# You can remove this if your CSV already includes them\n",
    "np.random.seed(42)\n",
    "df['region'] = np.random.choice(['North', 'South', 'East', 'West'], size=len(df))\n",
    "df['date'] = pd.date_range(start=\"2023-01-01\", periods=len(df), freq='D')"
   ]
  },
  {
   "cell_type": "code",
   "execution_count": 21,
   "id": "2d658281-fcdf-4beb-b4f5-d7692b1b979d",
   "metadata": {},
   "outputs": [],
   "source": [
    "# 4. Calculate Revenue (example: discounted_price * rating_count)\n",
    "df['revenue'] = df['discounted_price'] * df['rating_count']"
   ]
  },
  {
   "cell_type": "code",
   "execution_count": 22,
   "id": "4dc2578d-326e-4cd3-afd5-05096c1547fa",
   "metadata": {},
   "outputs": [
    {
     "name": "stdout",
     "output_type": "stream",
     "text": [
      "\n",
      "Total Revenue by Product Category:\n",
      " category\n",
      "Electronics|HomeTheater,TV&Video|Televisions|SmartTelevisions                                                             46318494.0\n",
      "Home&Kitchen|Heating,Cooling&AirQuality|WaterHeaters&Geysers|InstantWaterHeaters                                          13165787.0\n",
      "Computers&Accessories|Laptops|TraditionalLaptops                                                                          12030781.0\n",
      "Electronics|Mobiles&Accessories|Smartphones&BasicMobiles|Smartphones                                                      11722622.0\n",
      "Electronics|WearableTechnology|SmartWatches                                                                               10921429.0\n",
      "                                                                                                                             ...    \n",
      "OfficeProducts|OfficePaperProducts|Paper|Stationery|Pens,Pencils&WritingSupplies|Pens&Refills|GelInkRollerballPens               0.0\n",
      "OfficeProducts|OfficePaperProducts|Paper|Stationery|Pens,Pencils&WritingSupplies|Pens&Refills|LiquidInkRollerballPens            0.0\n",
      "OfficeProducts|OfficePaperProducts|Paper|Stationery|Pens,Pencils&WritingSupplies|Pens&Refills|RetractableBallpointPens           0.0\n",
      "OfficeProducts|OfficePaperProducts|Paper|Stationery|Pens,Pencils&WritingSupplies|Pens&Refills|StickBallpointPens                 0.0\n",
      "Toys&Games|Arts&Crafts|Drawing&PaintingSupplies|ColouringPens&Markers                                                            0.0\n",
      "Name: revenue, Length: 211, dtype: float64\n"
     ]
    }
   ],
   "source": [
    "# 5. Total revenue per product category\n",
    "category_revenue = df.groupby('category')['revenue'].sum().sort_values(ascending=False)\n",
    "print(\"\\nTotal Revenue by Product Category:\\n\", category_revenue)"
   ]
  },
  {
   "cell_type": "code",
   "execution_count": 23,
   "id": "d2cb36fb-aba5-4433-af9c-c0bcabd4e75c",
   "metadata": {},
   "outputs": [
    {
     "name": "stdout",
     "output_type": "stream",
     "text": [
      "\n",
      "Monthly Revenue Trend for South Region:\n",
      " month\n",
      "2023-01     790550.0\n",
      "2023-02     409352.0\n",
      "2023-03     245089.0\n",
      "2023-04      84575.0\n",
      "2023-05    5031408.0\n",
      "2023-06     472199.0\n",
      "2023-07       8479.0\n",
      "2023-08     877205.0\n",
      "2023-09     112727.0\n",
      "2023-10     307463.0\n",
      "2023-11     219033.0\n",
      "2023-12          0.0\n",
      "2024-01          0.0\n",
      "2024-02          0.0\n",
      "2024-03          0.0\n",
      "2024-04     461846.0\n",
      "2024-05    3789242.0\n",
      "2024-06      21736.0\n",
      "2024-07      33261.0\n",
      "2024-08    2303232.0\n",
      "2024-09          0.0\n",
      "2024-10          0.0\n",
      "2024-11          0.0\n",
      "2024-12     790550.0\n",
      "2025-01          0.0\n",
      "2025-02     178480.0\n",
      "2025-03      38412.0\n",
      "2025-04      25017.0\n",
      "2025-05     520178.0\n",
      "2025-06          0.0\n",
      "2025-07      56260.0\n",
      "2025-08     118350.0\n",
      "2025-09     559532.0\n",
      "2025-10     333982.0\n",
      "2025-11     712486.0\n",
      "2025-12     869366.0\n",
      "2026-01     261593.0\n",
      "2026-02      23628.0\n",
      "2026-03     353885.0\n",
      "2026-04     281199.0\n",
      "2026-05     755682.0\n",
      "2026-06    1593201.0\n",
      "2026-07     184741.0\n",
      "2026-08    3899345.0\n",
      "2026-09    3010703.0\n",
      "2026-10    1156657.0\n",
      "2026-11      30258.0\n",
      "2026-12    3898552.0\n",
      "Freq: M, Name: revenue, dtype: float64\n"
     ]
    }
   ],
   "source": [
    "# 6. Filter for a specific region and analyze monthly revenue trends\n",
    "region_df = df[df['region'] == 'South'].copy()  # Change region name as needed\n",
    "region_df['month'] = pd.to_datetime(region_df['date']).dt.to_period('M')\n",
    "monthly_trend = region_df.groupby('month')['revenue'].sum()\n",
    "print(\"\\nMonthly Revenue Trend for South Region:\\n\", monthly_trend)"
   ]
  },
  {
   "cell_type": "code",
   "execution_count": 24,
   "id": "30903585-b86e-4ea1-9e78-dfa165639135",
   "metadata": {},
   "outputs": [
    {
     "name": "stdout",
     "output_type": "stream",
     "text": [
      "\n",
      "Revenue Statistics:\n",
      "Mean: ₹615276.09\n",
      "Median: ₹166389.00\n",
      "Std Dev: ₹1514604.66\n"
     ]
    }
   ],
   "source": [
    "# 7. Statistical operations using NumPy\n",
    "revenue_array = df['revenue'].dropna().to_numpy()\n",
    "mean_revenue = np.mean(revenue_array)\n",
    "median_revenue = np.median(revenue_array)\n",
    "std_dev_revenue = np.std(revenue_array)\n",
    "\n",
    "print(f\"\\nRevenue Statistics:\\nMean: ₹{mean_revenue:.2f}\\nMedian: ₹{median_revenue:.2f}\\nStd Dev: ₹{std_dev_revenue:.2f}\")"
   ]
  }
 ],
 "metadata": {
  "kernelspec": {
   "display_name": "Python 3 (ipykernel)",
   "language": "python",
   "name": "python3"
  },
  "language_info": {
   "codemirror_mode": {
    "name": "ipython",
    "version": 3
   },
   "file_extension": ".py",
   "mimetype": "text/x-python",
   "name": "python",
   "nbconvert_exporter": "python",
   "pygments_lexer": "ipython3",
   "version": "3.13.3"
  }
 },
 "nbformat": 4,
 "nbformat_minor": 5
}
